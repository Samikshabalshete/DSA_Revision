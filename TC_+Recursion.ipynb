{
 "cells": [
  {
   "cell_type": "code",
   "execution_count": null,
   "id": "d38bd4c5",
   "metadata": {},
   "outputs": [],
   "source": [
    "#Find time complexity of below code blocks :\n",
    "'''Problem 1 :\n",
    "def quicksort(arr):\n",
    "if len(arr) <= 1:\n",
    "return arr\n",
    "pivot = arr[len(arr) // 2]\n",
    "left = [x for x in arr if x < pivot]\n",
    "middle = [x for x in arr if x == pivot]\n",
    "right = [x for x in arr if x > pivot]\n",
    "return quicksort(left) + middle + quicksort(right)'''\n",
    "O(n^2)"
   ]
  },
  {
   "cell_type": "code",
   "execution_count": null,
   "id": "ca56d8a4",
   "metadata": {},
   "outputs": [],
   "source": [
    "'''Problem 2 :\n",
    "def nested_loop_example(matrix):\n",
    "rows, cols = len(matrix), len(matrix[0])\n",
    "total = 0\n",
    "for i in range(rows):\n",
    "for j in range(cols):\n",
    "total += matrix[i][j]\n",
    "return total'''\n",
    "O(n*m) : n : no.of rows, m:no.of columns"
   ]
  },
  {
   "cell_type": "code",
   "execution_count": null,
   "id": "af410315",
   "metadata": {},
   "outputs": [],
   "source": [
    "'''Problem 3 :\n",
    "def example_function(arr):\n",
    "result = 0\n",
    "for element in arr:\n",
    "result += element\n",
    "return result'''\n",
    "O(n)"
   ]
  },
  {
   "cell_type": "code",
   "execution_count": null,
   "id": "3da58f7a",
   "metadata": {},
   "outputs": [],
   "source": [
    "'''Problem 4 :\n",
    "def longest_increasing_subsequence(nums):\n",
    "n = len(nums)\n",
    "lis = [1] * n\n",
    "for i in range(1, n):\n",
    "for j in range(0, i):\n",
    "if nums[i] > nums[j] and lis[i] < lis[j] + 1:\n",
    "lis[i] = lis[j] + 1\n",
    "return max(lis)'''\n",
    "O(n^2)"
   ]
  },
  {
   "cell_type": "code",
   "execution_count": null,
   "id": "caff9978",
   "metadata": {},
   "outputs": [],
   "source": [
    "'''Problem 5 :\n",
    "def mysterious_function(arr):\n",
    "n = len(arr)\n",
    "result = 0\n",
    "for i in range(n):\n",
    "for j in range(i, n):\n",
    "result += arr[i] * arr[j]\n",
    "return result'''\n",
    "O(n^2)"
   ]
  },
  {
   "cell_type": "markdown",
   "id": "0bd4d250",
   "metadata": {},
   "source": [
    "# Solve the following problems on recursion"
   ]
  },
  {
   "cell_type": "code",
   "execution_count": 4,
   "id": "02f34d67",
   "metadata": {},
   "outputs": [
    {
     "data": {
      "text/plain": [
       "6"
      ]
     },
     "execution_count": 4,
     "metadata": {},
     "output_type": "execute_result"
    }
   ],
   "source": [
    "#Problem 6 : Sum of Digits\n",
    "'''Write a recursive function to calculate the sum of digits of a given positive integer.\n",
    "sum_of_digits(123) -> 6'''\n",
    "def sum_digit(digit):\n",
    "    if digit<10:\n",
    "        return digit\n",
    "    \n",
    "    return digit %10 + sum_digit(digit//10)\n",
    "\n",
    "#driver code\n",
    "sum_digit(123)"
   ]
  },
  {
   "cell_type": "code",
   "execution_count": 1,
   "id": "277eec42",
   "metadata": {},
   "outputs": [
    {
     "name": "stdout",
     "output_type": "stream",
     "text": [
      "[0, 1, 1, 2, 3, 5]\n"
     ]
    }
   ],
   "source": [
    "#Problem 7: Fibonacci Series\n",
    "'''Write a recursive function to generate the first n numbers of the Fibonacci series.\n",
    "fibonacci_series(6) -> [0, 1, 1, 2, 3, 5]'''\n",
    "def fibonacci_series(n, series=None):\n",
    "    if series is None:\n",
    "        series = []\n",
    "\n",
    "    if n <= 0:\n",
    "        return series\n",
    "    elif n == 1:\n",
    "        series.append(0)\n",
    "        return series\n",
    "    elif n == 2:\n",
    "        series.extend([0, 1])\n",
    "        return series\n",
    "    else:\n",
    "        series = fibonacci_series(n - 1, series)\n",
    "        series.append(series[-1] + series[-2])\n",
    "        return series\n",
    "\n",
    "# Example usage:\n",
    "n = 6\n",
    "result = fibonacci_series(n)\n",
    "print(result)\n",
    "\n"
   ]
  },
  {
   "cell_type": "code",
   "execution_count": 1,
   "id": "4bde0b19",
   "metadata": {},
   "outputs": [
    {
     "name": "stdout",
     "output_type": "stream",
     "text": [
      "True\n"
     ]
    }
   ],
   "source": [
    "'''Problem 8 : Subset Sum\n",
    "Given a set of positive integers and a target sum, write a recursive function to determine if there exists a subset\n",
    "of the integers that adds up to the target sum.\n",
    "subset_sum([3, 34, 4, 12, 5, 2], 9) -> True'''\n",
    "def subset_sum_recursive(nums, target, index):\n",
    "    # Base cases\n",
    "    if target == 0:\n",
    "        return True\n",
    "    if index == 0 and nums[index] == target:\n",
    "        return True\n",
    "    if index == 0 and nums[index] != target:\n",
    "        return False\n",
    "\n",
    "    # Include the current element in the subset\n",
    "    include = subset_sum_recursive(nums, target - nums[index], index - 1)\n",
    "\n",
    "    # Exclude the current element from the subset\n",
    "    exclude = subset_sum_recursive(nums, target, index - 1)\n",
    "\n",
    "    # Return True if either including or excluding the current element leads to a subset sum\n",
    "    return include or exclude\n",
    "\n",
    "def subset_sum(nums, target):\n",
    "    if not nums:\n",
    "        return False\n",
    "    return subset_sum_recursive(nums, target, len(nums) - 1)\n",
    "\n",
    "# Example usage\n",
    "nums = [3, 34, 4, 12, 5, 2]\n",
    "target = 9\n",
    "result = subset_sum(nums, target)\n",
    "print(result)\n"
   ]
  },
  {
   "cell_type": "code",
   "execution_count": 2,
   "id": "1162277e",
   "metadata": {},
   "outputs": [
    {
     "name": "stdout",
     "output_type": "stream",
     "text": [
      "True\n"
     ]
    }
   ],
   "source": [
    "'''Problem 9: Word Break\n",
    "Given a non-empty string and a dictionary of words, write a recursive function to determine if the string can be\n",
    "segmented into a space-separated sequence of dictionary words.\n",
    "word_break( leetcode , [ leet , code ]) -> True'''\n",
    "def word_break_recursive(s, word_dict):\n",
    "    # Base case: an empty string can always be segmented\n",
    "    if not s:\n",
    "        return True\n",
    "    \n",
    "    # Try breaking the string at different positions\n",
    "    for i in range(1, len(s) + 1):\n",
    "        prefix = s[:i]\n",
    "        if prefix in word_dict and word_break_recursive(s[i:], word_dict):\n",
    "            return True\n",
    "    \n",
    "    # If no segmentation is found\n",
    "    return False\n",
    "\n",
    "def word_break(s, word_dict):\n",
    "    if not s or not word_dict:\n",
    "        return False\n",
    "    \n",
    "    return word_break_recursive(s, set(word_dict))\n",
    "\n",
    "# Example usage\n",
    "string = \"leetcode\"\n",
    "word_dictionary = [\"leet\", \"code\"]\n",
    "result = word_break(string, word_dictionary)\n",
    "print(result)\n"
   ]
  },
  {
   "cell_type": "code",
   "execution_count": 3,
   "id": "9566f50a",
   "metadata": {},
   "outputs": [
    {
     "name": "stdout",
     "output_type": "stream",
     "text": [
      "['.Q..', '...Q', 'Q...', '..Q.']\n",
      "['..Q.', 'Q...', '...Q', '.Q..']\n"
     ]
    }
   ],
   "source": [
    "'''Problem 10 : N-Queens\n",
    "Implement a recursive function to solve the N Queens problem, where you have to place N queens on an N×N\n",
    "chessboard in such a way that no two queens threaten each other.\n",
    "n_queens(4)\n",
    "[\n",
    "[\".Q..\",\n",
    "\"...Q\",\n",
    "\"Q...\",\n",
    "\"..Q.\"],\n",
    "[\"..Q.\",\n",
    "\"Q...\",\n",
    "\"...Q\",\n",
    "\".Q..\"]\n",
    "]'''\n",
    "def is_safe(board, row, col, n):\n",
    "    # Check if there is a queen in the same column\n",
    "    for i in range(row):\n",
    "        if board[i][col] == 'Q':\n",
    "            return False\n",
    "\n",
    "    # Check if there is a queen in the left upper diagonal\n",
    "    for i, j in zip(range(row - 1, -1, -1), range(col - 1, -1, -1)):\n",
    "        if board[i][j] == 'Q':\n",
    "            return False\n",
    "\n",
    "    # Check if there is a queen in the right upper diagonal\n",
    "    for i, j in zip(range(row - 1, -1, -1), range(col + 1, n)):\n",
    "        if board[i][j] == 'Q':\n",
    "            return False\n",
    "\n",
    "    return True\n",
    "\n",
    "def solve_n_queens_util(board, row, n, result):\n",
    "    if row == n:\n",
    "        # If all queens are placed successfully, add the current configuration to the result\n",
    "        result.append([\"\".join(row) for row in board])\n",
    "        return\n",
    "\n",
    "    for col in range(n):\n",
    "        if is_safe(board, row, col, n):\n",
    "            # Place the queen and move to the next row\n",
    "            board[row][col] = 'Q'\n",
    "            solve_n_queens_util(board, row + 1, n, result)\n",
    "            # Backtrack: remove the queen from the current position\n",
    "            board[row][col] = '.'\n",
    "\n",
    "def solve_n_queens(n):\n",
    "    result = []\n",
    "    # Initialize an empty chessboard\n",
    "    board = [['.' for _ in range(n)] for _ in range(n)]\n",
    "    solve_n_queens_util(board, 0, n, result)\n",
    "    return result\n",
    "\n",
    "# Example usage\n",
    "n = 4\n",
    "result = solve_n_queens(n)\n",
    "for solution in result:\n",
    "    print(solution)\n"
   ]
  },
  {
   "cell_type": "code",
   "execution_count": null,
   "id": "c06e7dda",
   "metadata": {},
   "outputs": [],
   "source": []
  }
 ],
 "metadata": {
  "kernelspec": {
   "display_name": "Python 3 (ipykernel)",
   "language": "python",
   "name": "python3"
  },
  "language_info": {
   "codemirror_mode": {
    "name": "ipython",
    "version": 3
   },
   "file_extension": ".py",
   "mimetype": "text/x-python",
   "name": "python",
   "nbconvert_exporter": "python",
   "pygments_lexer": "ipython3",
   "version": "3.11.5"
  }
 },
 "nbformat": 4,
 "nbformat_minor": 5
}
